{
 "cells": [
  {
   "cell_type": "markdown",
   "id": "3cd0d4d8",
   "metadata": {},
   "source": [
    "# Procedures Lab — Student Workbook (Simplified)\n",
    "\n",
    "This simplified workbook is intentionally not complicated. It contains 3 small Hacks and a final pytest run.\n",
    "Run the first cell to ensure necessary test packages are installed in this kernel."
   ]
  },
  {
   "cell_type": "markdown",
   "id": "6aaf74e1",
   "metadata": {},
   "source": [
    "### Hack 1 — Easy: add(a, b)\n",
    "Fill in the implementation then run the test cell."
   ]
  },
  {
   "cell_type": "code",
   "execution_count": null,
   "id": "704e9ec0",
   "metadata": {},
   "outputs": [],
   "source": [
    "# Hack 1: implement add(a, b)\n",
    "def add(a: float, b: float) -> float:\n",
    "    \"\"\"Return a + b.\"\"\"\n",
    "    # TODO: implement and remove the NotImplementedError\n",
    "    raise NotImplementedError('Implement add')"
   ]
  },
  {
   "cell_type": "code",
   "execution_count": null,
   "id": "12da3aa8",
   "metadata": {},
   "outputs": [],
   "source": [
    "# Test for Hack 1\n",
    "assert add(2,3) == 5\n",
    "print('Hack 1 OK')"
   ]
  },
  {
   "cell_type": "markdown",
   "id": "d6391774",
   "metadata": {},
   "source": [
    "### Hack 2 — Medium: fib(n)\n",
    "Implement the n-th Fibonacci number where fib(0)==0 and fib(1)==1. Prefer iterative approach for simplicity."
   ]
  },
  {
   "cell_type": "code",
   "execution_count": null,
   "id": "0520a3ae",
   "metadata": {},
   "outputs": [],
   "source": [
    "# Hack 2: implement fib(n)\n",
    "def fib(n: int) -> int:\n",
    "    \"\"\"Return the n-th Fibonacci number (fib(0)=0, fib(1)=1).\"\"\"\n",
    "    # TODO: implement and remove the NotImplementedError\n",
    "    raise NotImplementedError('Implement fib')"
   ]
  },
  {
   "cell_type": "code",
   "execution_count": null,
   "id": "1ce0eba0",
   "metadata": {},
   "outputs": [],
   "source": [
    "# Test for Hack 2\n",
    "assert fib(0) == 0\n",
    "assert fib(1) == 1\n",
    "assert fib(6) == 8\n",
    "print('Hack 2 OK')"
   ]
  },
  {
   "cell_type": "markdown",
   "id": "bc890c15",
   "metadata": {},
   "source": [
    "### Hack 3 — Medium-Hard: simple in-memory DB CRUD\n",
    "Implement create_item, read_item, update_item, delete_item using an internal dictionary `_DB`.\n",
    "Behavior hints:\n",
    "- `create_item(key, value)` should store or replace the value (a dict) at `key`.\n",
    "- `read_item(key)` returns the stored dict or None.\n",
    "- `update_item(key, patch)` merges `patch` into stored dict and returns True if key existed, False otherwise.\n",
    "- `delete_item(key)` removes and returns True if the key existed, False otherwise."
   ]
  },
  {
   "cell_type": "code",
   "execution_count": null,
   "id": "aa474036",
   "metadata": {},
   "outputs": [],
   "source": [
    "# Hack 3: implement simple DB CRUD\n",
    "from typing import Dict, Optional\n",
    "DB: Dict[str, Dict] = {}\n",
    "\n",
    "def create_item(key: str, value: Dict) -> None:\n",
    "    # TODO: implement\n",
    "    raise NotImplementedError('Implement create_item')\n",
    "\n",
    "def read_item(key: str) -> Optional[Dict]:\n",
    "    # TODO: implement\n",
    "    raise NotImplementedError('Implement read_item')\n",
    "\n",
    "def update_item(key: str, patch: Dict) -> bool:\n",
    "    # TODO: implement\n",
    "    raise NotImplementedError('Implement update_item')\n",
    "\n",
    "def delete_item(key: str) -> bool:\n",
    "    # TODO: implement\n",
    "    raise NotImplementedError('Implement delete_item')"
   ]
  },
  {
   "cell_type": "code",
   "execution_count": null,
   "id": "b8e2d8ac",
   "metadata": {},
   "outputs": [],
   "source": [
    "# Simple tests for Hack 3\n",
    "create_item('a', {'x':1})\n",
    "assert read_item('a') == {'x':1}\n",
    "assert update_item('a', {'y':2}) is True\n",
    "assert read_item('a') == {'x':1, 'y':2}\n",
    "assert delete_item('a') is True\n",
    "print('Hack 3 OK')"
   ]
  }
 ],
 "metadata": {
  "kernelspec": {
   "display_name": "venv (3.10.1)",
   "language": "python",
   "name": "python3"
  },
  "language_info": {
   "codemirror_mode": {
    "name": "ipython",
    "version": 3
   },
   "file_extension": ".py",
   "mimetype": "text/x-python",
   "name": "python",
   "nbconvert_exporter": "python",
   "pygments_lexer": "ipython3",
   "version": "3.10.1"
  }
 },
 "nbformat": 4,
 "nbformat_minor": 5
}
